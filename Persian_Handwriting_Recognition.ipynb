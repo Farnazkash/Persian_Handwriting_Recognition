{
  "nbformat": 4,
  "nbformat_minor": 0,
  "metadata": {
    "colab": {
      "name": "Persian_Handwriting_Recognition.ipynb",
      "provenance": [],
      "collapsed_sections": [
        "KjmPPZWSw94B",
        "ObDIJa5519fS",
        "zvxoQ6nasG0G",
        "ljeVdLAftWMJ",
        "mMOBptv4tzUV",
        "cnqGNZYht-7h",
        "NTyrrZ1WC-pZ",
        "vLuCTTmYwnjp",
        "rAxAsyWDEtsj",
        "-sxai6O-MRKT",
        "V6XBvgnOlK7K"
      ],
      "toc_visible": true,
      "mount_file_id": "1wpCgG1zcmi41j-_Rn0zGPL1keo2dXAHX",
      "authorship_tag": "ABX9TyOQ+sIzAv6U77H9YSAR2/mq",
      "include_colab_link": true
    },
    "kernelspec": {
      "name": "python3",
      "display_name": "Python 3"
    }
  },
  "cells": [
    {
      "cell_type": "markdown",
      "metadata": {
        "id": "view-in-github",
        "colab_type": "text"
      },
      "source": [
        "<a href=\"https://colab.research.google.com/github/Farnazkash/Persian_Handwriting_Recognition/blob/master/Persian_Handwriting_Recognition.ipynb\" target=\"_parent\"><img src=\"https://colab.research.google.com/assets/colab-badge.svg\" alt=\"Open In Colab\"/></a>"
      ]
    },
    {
      "cell_type": "markdown",
      "metadata": {
        "id": "UPjSTw8Cr8wH",
        "colab_type": "text"
      },
      "source": [
        "***Persian_Handwriting_Recognition***\n",
        "==\n",
        "\n",
        "*   Input : A form containing ID, Firstname, Lastname and Degree of the form filler.\n",
        "\n",
        "*   Output: these four fields of the form\n",
        "\n",
        "In this project, a dataset of handwritten characters and digits has been gathered. Then two neural networks have been trained to classify handwritten Persian letters and digits. So finally it can automatically read the form."
      ]
    },
    {
      "cell_type": "markdown",
      "metadata": {
        "id": "KjmPPZWSw94B",
        "colab_type": "text"
      },
      "source": [
        "# Import Libraries"
      ]
    },
    {
      "cell_type": "code",
      "metadata": {
        "id": "MFA8UnIqxHfh",
        "colab_type": "code",
        "colab": {}
      },
      "source": [
        "import cv2 as cv2\n",
        "import numpy as np\n",
        "import pickle\n",
        "import cv2 as cv2\n",
        "import os\n",
        "import glob\n",
        "from tqdm import tqdm\n",
        "import math"
      ],
      "execution_count": null,
      "outputs": []
    },
    {
      "cell_type": "markdown",
      "metadata": {
        "id": "ObDIJa5519fS",
        "colab_type": "text"
      },
      "source": [
        "#Global Variables"
      ]
    },
    {
      "cell_type": "code",
      "metadata": {
        "id": "zthRd2FL16Ae",
        "colab_type": "code",
        "colab": {}
      },
      "source": [
        "ID = {}\n",
        "Firstname = {}\n",
        "Lastname = {}\n",
        "Degree = {}"
      ],
      "execution_count": null,
      "outputs": []
    },
    {
      "cell_type": "markdown",
      "metadata": {
        "id": "ANPfKL11sF3H",
        "colab_type": "text"
      },
      "source": [
        "#DATASET\n",
        "\n",
        "In the first step, we need to prepare the dataset. In this project, around 300 images including handwritten Persian letters and digits have been used. To make the labeling process easier, the names of folders have chosen as the labels of the data in this dataset.\n",
        "So, the dataset has separated to two digits and letters folders.\n",
        "Digits folder has ten folders ranging from zero to nine.\n",
        "Because Persian has 32 letters, in letters folder we have 32 folders ranging from 0 (letter 'الف') to 31 (letter 'ی')."
      ]
    },
    {
      "cell_type": "markdown",
      "metadata": {
        "id": "zvxoQ6nasG0G",
        "colab_type": "text"
      },
      "source": [
        "## Create Dataset Folders\n",
        "To use these images, their perspective should be corrected.\n",
        "Each image that has been used in the dataset has 4 [aruco](https://docs.opencv.org/trunk/d5/dae/tutorial_aruco_detection.html) markers in its corners. These markers have helped us to rectify images."
      ]
    },
    {
      "cell_type": "code",
      "metadata": {
        "id": "Nkil22mc_IPF",
        "colab_type": "code",
        "colab": {}
      },
      "source": [
        "codes = ['0', '1', '10', '11', '12', '13', '14', '15', '16', '17', '18', '19', '20', '21', '22', '23', '24', '25', '26',\n",
        "         '2', '3',\n",
        "         '4', '5', '27', '28', '29', '30', '31', '32', '33', '34', '35', '36', '37', '38', '39', '40', '41', '6',\n",
        "         '7', '8', '9'\n",
        "         ]\n",
        "folder_counter = np.zeros(42)\n",
        "\n",
        "def extract_cells(f,file):\n",
        "    I = f\n",
        "    dictionary = cv2.aruco.Dictionary_get(cv2.aruco.DICT_6X6_250)\n",
        "    parameters = cv2.aruco.DetectorParameters_create()\n",
        "    markerCorners, markerIds, rejectedCandidates = cv2.aruco.detectMarkers(I, dictionary, parameters=parameters)\n",
        "    \n",
        "    aruco_list = {}\n",
        "    for k in range(len(markerCorners)):\n",
        "        temp_1 = markerCorners[k]\n",
        "        temp_1 = temp_1[0]\n",
        "        temp_2 = markerIds[k]\n",
        "        temp_2 = temp_2[0]\n",
        "        aruco_list[temp_2] = temp_1\n",
        "\n",
        "    p1 = aruco_list[30][0]\n",
        "    p2 = aruco_list[31][1]\n",
        "    p3 = aruco_list[32][3]\n",
        "    p4 = aruco_list[33][2]\n",
        "    points2 = np.array([(0, 0),\n",
        "                        (392, 0),\n",
        "                        (0, 588),\n",
        "                        (392, 588)]).astype(np.float32)\n",
        "\n",
        "    points1 = np.array([p1, p2, p3, p4], dtype=np.float32)\n",
        "\n",
        "    m = 588\n",
        "    n = 392\n",
        "    output_size = (n, m)\n",
        "    H = cv2.getPerspectiveTransform(points1, points2)\n",
        "    J = cv2.warpPerspective(I, H, output_size)\n",
        "\n",
        "    col_number = n // 28\n",
        "    row_number = m // 28\n",
        "\n",
        "    form_num = file[8]\n",
        "    for i in range(row_number):\n",
        "        for j in range(col_number):\n",
        "            ROI = J[i * 28:(i * 28) + 28, j * 28:(j * 28) + 28]\n",
        "            index = i if form_num == '1' else i + 21\n",
        "            if not os.path.exists('dataset/'+codes[index]):\n",
        "                os.makedirs('dataset/'+ codes[index])\n",
        "            if not (i < 2 and (j < 2 or j > 11)) and not (i > 18 and (j < 2 or j > 11)):\n",
        "                cv2.imwrite('dataset/{}/{}.png'.format(codes[index], str(folder_counter[int(codes[index])])), ROI)\n",
        "                folder_counter[int(codes[index])] += 1"
      ],
      "execution_count": null,
      "outputs": []
    },
    {
      "cell_type": "code",
      "metadata": {
        "id": "eAB23l0r_3iw",
        "colab_type": "code",
        "colab": {}
      },
      "source": [
        "raw_data = './dataset/'\n",
        "images_list = os.listdir(raw_data)\n",
        "\n",
        "for file in images_list:\n",
        "    f = cv2.imread(raw_data + file)\n",
        "    extract_cells(f,file)"
      ],
      "execution_count": null,
      "outputs": []
    },
    {
      "cell_type": "markdown",
      "metadata": {
        "id": "ljeVdLAftWMJ",
        "colab_type": "text"
      },
      "source": [
        "##Labeling\n"
      ]
    },
    {
      "cell_type": "markdown",
      "metadata": {
        "id": "mMOBptv4tzUV",
        "colab_type": "text"
      },
      "source": [
        "###Digit Labeling"
      ]
    },
    {
      "cell_type": "code",
      "metadata": {
        "id": "7rQmShApA6PJ",
        "colab_type": "code",
        "colab": {}
      },
      "source": [
        "train_dirs_digits = glob.glob(\"dataset/digits/*\")\n",
        "train_dirs_digits.sort(key=lambda f: int(''.join(filter(str.isdigit, f))))\n",
        "data_digit = []\n",
        "labels_digit = []\n",
        "for train_dir in tqdm(train_dirs_digits):\n",
        "  imgPaths = glob.glob(train_dir + \"/*.png\")\n",
        "  imgPaths.sort()\n",
        "  for imgPath in tqdm(imgPaths):\n",
        "    image = load_img(imgPath, target_size=(28, 28), grayscale=True)\n",
        "    image = img_to_array(image)\n",
        "    data_digit.append(image)\n",
        "    label = imgPath.split(os.path.sep)[-2]\n",
        "    label = int(label)\n",
        "    labels_digit.append(label)\n",
        "\n",
        "with open('data_digit.pkl', 'wb') as f:\n",
        "  pickle.dump(data_digit, f)\n",
        "\n",
        "with open('labels_digit.pkl', 'wb') as fi:\n",
        "  pickle.dump(labels_digit, fi)"
      ],
      "execution_count": null,
      "outputs": []
    },
    {
      "cell_type": "markdown",
      "metadata": {
        "id": "cnqGNZYht-7h",
        "colab_type": "text"
      },
      "source": [
        "###Letter Labeling"
      ]
    },
    {
      "cell_type": "code",
      "metadata": {
        "id": "hCBU7y8VBNKG",
        "colab_type": "code",
        "colab": {}
      },
      "source": [
        "train_dirs = glob.glob(\"dataset/letter/*\")\n",
        "train_dirs.sort(key=lambda f: int(''.join(filter(str.isdigit, f))))\n",
        "data_letter = []\n",
        "labels_letter = []\n",
        "for train_dir in tqdm(train_dirs):\n",
        "    imgPaths = glob.glob(train_dir + \"/*.png\")\n",
        "    imgPaths.sort()\n",
        "    for imgPath in tqdm(imgPaths):\n",
        "        image = load_img(imgPath, target_size=(28, 28), grayscale=True)\n",
        "        image = img_to_array(image)\n",
        "        data_letter.append(image)\n",
        "\n",
        "        label = imgPath.split(os.path.sep)[-2]\n",
        "        label = int(label)\n",
        "        labels_letter.append(label)\n",
        "\n",
        "with open('data_letter.pkl', 'wb') as f:\n",
        "  pickle.dump(data_letter, f)\n",
        "\n",
        "with open('labels_letter.pkl', 'wb') as fi:\n",
        "  pickle.dump(labels_letter, fi)"
      ],
      "execution_count": null,
      "outputs": []
    },
    {
      "cell_type": "markdown",
      "metadata": {
        "id": "NTyrrZ1WC-pZ",
        "colab_type": "text"
      },
      "source": [
        "##Reading Data & Label Files\n",
        "Once the dataset prepared, by saving data and labels to files, you won't need to do the labeling process again."
      ]
    },
    {
      "cell_type": "code",
      "metadata": {
        "id": "I0cOxHoGDIL8",
        "colab_type": "code",
        "colab": {}
      },
      "source": [
        "with open('data_digit.pkl', 'rb') as f:\n",
        "  data_digit = pickle.load(f)\n",
        "\n",
        "with open('labels_digit.pkl', 'rb') as fi:\n",
        "  labels_digit = pickle.load(fi)"
      ],
      "execution_count": null,
      "outputs": []
    },
    {
      "cell_type": "code",
      "metadata": {
        "id": "TM5U5UOEDNLx",
        "colab_type": "code",
        "colab": {}
      },
      "source": [
        "with open('data_letter.pkl', 'rb') as f:\n",
        "  data_letter = pickle.load(f)\n",
        "\n",
        "with open('labels_letter.pkl', 'rb') as fi:\n",
        "  labels_letter = pickle.load(fi)"
      ],
      "execution_count": null,
      "outputs": []
    },
    {
      "cell_type": "code",
      "metadata": {
        "id": "H-IGzoEKDbZ8",
        "colab_type": "code",
        "colab": {
          "base_uri": "https://localhost:8080/",
          "height": 88
        },
        "outputId": "190bd44c-fe28-4eaf-c28f-bc4773820b1a"
      },
      "source": [
        "print(\"digits data size:\")\n",
        "print(len(data_digit),len(labels_digit))\n",
        "print(\"letters data size:\")\n",
        "print(len(data_letter),len(labels_letter))"
      ],
      "execution_count": null,
      "outputs": [
        {
          "output_type": "stream",
          "text": [
            "digits data size:\n",
            "15848 15848\n",
            "letters data size:\n",
            "65884 65884\n"
          ],
          "name": "stdout"
        }
      ]
    },
    {
      "cell_type": "markdown",
      "metadata": {
        "id": "vLuCTTmYwnjp",
        "colab_type": "text"
      },
      "source": [
        "# Read Forms & Extract Cells\n",
        "Reading test forms from a folder and extracting cells that have digits or letters and saving extracted cells in a folder with the name of the form."
      ]
    },
    {
      "cell_type": "code",
      "metadata": {
        "id": "9NWKs_dc1WLM",
        "colab_type": "code",
        "colab": {}
      },
      "source": [
        "def empty_cell(cell):\n",
        "    x1 = int(cell.shape[0] * 0.2)\n",
        "    x2 = int(cell.shape[0] * 0.8)\n",
        "    y1 = int(cell.shape[1] * 0.2)\n",
        "    y2 = int(cell.shape[1] * 0.8)\n",
        "    cell = cell[x1:x2, y1:y2]\n",
        "    gray = cv2.cvtColor(cell, cv2.COLOR_BGR2GRAY)\n",
        "    thresh = cv2.adaptiveThreshold(gray, 255, cv2.ADAPTIVE_THRESH_GAUSSIAN_C, cv2.THRESH_BINARY, 57, 7)\n",
        "    total_white = cv2.countNonZero(thresh)\n",
        "    ratio = total_white / float((x2-x1) * (y2-y1))\n",
        "    if ratio > 0.98:\n",
        "        return True\n",
        "    return False"
      ],
      "execution_count": null,
      "outputs": []
    },
    {
      "cell_type": "code",
      "metadata": {
        "id": "9yDrCJSZ1eKu",
        "colab_type": "code",
        "colab": {}
      },
      "source": [
        "def detect_degree(options):\n",
        "    min_ratio = math.inf\n",
        "    min_index = 0\n",
        "\n",
        "    for index, opt in enumerate(options):\n",
        "        x1 = int(opt.shape[0] * 0.2)\n",
        "        x2 = int(opt.shape[0] * 0.8)\n",
        "        y1 = int(opt.shape[1] * 0.2)\n",
        "        y2 = int(opt.shape[1] * 0.8)\n",
        "        opt = opt[x1:x2, y1:y2]\n",
        "\n",
        "        gray = cv2.cvtColor(opt, cv2.COLOR_BGR2GRAY)\n",
        "\n",
        "        thresh = cv2.adaptiveThreshold(gray, 255, cv2.ADAPTIVE_THRESH_GAUSSIAN_C, cv2.THRESH_BINARY, 57, 5)\n",
        "        total_white = cv2.countNonZero(thresh)\n",
        "\n",
        "        ratio = total_white / float(thresh.shape[0] * thresh.shape[1])\n",
        "        if (ratio < min_ratio):\n",
        "            min_ratio = ratio\n",
        "            min_index = index\n",
        "    return min_index"
      ],
      "execution_count": null,
      "outputs": []
    },
    {
      "cell_type": "code",
      "metadata": {
        "id": "-IE_J3KAxzUH",
        "colab_type": "code",
        "colab": {}
      },
      "source": [
        "def extracted_form_test(path):\n",
        "    I = cv2.imread(path)\n",
        "    dictionary = cv2.aruco.Dictionary_get(cv2.aruco.DICT_6X6_250)\n",
        "    parameters = cv2.aruco.DetectorParameters_create()\n",
        "    markerCorners, markerIds, rejectedCandidates = cv2.aruco.detectMarkers(I, dictionary, parameters=parameters)\n",
        "\n",
        "    aruco_list = {}\n",
        "    for k in range(len(markerCorners)):\n",
        "        temp_1 = markerCorners[k]\n",
        "        temp_1 = temp_1[0]\n",
        "        temp_2 = markerIds[k]\n",
        "        temp_2 = temp_2[0]\n",
        "        aruco_list[temp_2] = temp_1\n",
        "\n",
        "    p1 = aruco_list[34][3]\n",
        "    p2 = aruco_list[35][2]\n",
        "    p3 = aruco_list[33][0]\n",
        "    p4 = aruco_list[36][1]\n",
        "\n",
        "    width = 500\n",
        "    height = 550\n",
        "    points2 = np.array([(0, 0),\n",
        "                        (width, 0),\n",
        "                        (0, height),\n",
        "                        (width, height)]).astype(np.float32)\n",
        "\n",
        "    points1 = np.array([p1, p2, p3, p4], dtype=np.float32)\n",
        "\n",
        "    output_size = (width, height)\n",
        "    H = cv2.getPerspectiveTransform(points1, points2)\n",
        "    J = cv2.warpPerspective(I, H, output_size)\n",
        "\n",
        "    gray = cv2.cvtColor(J, cv2.COLOR_BGR2GRAY)\n",
        "    thresh = cv2.adaptiveThreshold(gray, 255, cv2.ADAPTIVE_THRESH_GAUSSIAN_C, cv2.THRESH_BINARY_INV, 57, 7)\n",
        "    kernelOpen = np.ones((2, 2), np.uint8)\n",
        "    open = cv2.morphologyEx(thresh, cv2.MORPH_OPEN, kernelOpen)\n",
        "    kernel = np.ones((2, 2), np.uint8)\n",
        "    close = cv2.morphologyEx(open, cv2.MORPH_CLOSE, kernel)\n",
        "\n",
        "    cnts = cv2.findContours(close, cv2.RETR_EXTERNAL, cv2.CHAIN_APPROX_SIMPLE)\n",
        "    cnts = cnts[0] if len(cnts) == 2 else cnts[1]\n",
        "\n",
        "    min_x = 5\n",
        "    max_x = 50\n",
        "    dir = path.split(os.path.sep)[-1]\n",
        "    folder_name = dir[:-4]\n",
        "    image_number = 1\n",
        "    count = 0\n",
        "    index = 0\n",
        "    degree = [\"PHD\", \"MS\", \"BS\"]\n",
        "    info = ['ID','FN', 'LN']\n",
        "    degree_option = []\n",
        "    sorted_Y = sorted(cnts, key=lambda ctr: cv2.boundingRect(ctr)[1])\n",
        "    sorted_X = sorted(cnts, key=lambda ctr: cv2.boundingRect(ctr)[0])\n",
        "\n",
        "    for c in sorted_Y:\n",
        "        x, y, w, h = cv2.boundingRect(c)\n",
        "        if (x > min_x and x < max_x and y < 280 and w>10):\n",
        "            square_w = w // 9 + 5\n",
        "            h -= 5\n",
        "            for i in range(0, 8):\n",
        "                x_start = x + square_w * i\n",
        "                cell = J[y:y + h, x_start:x_start + square_w]\n",
        "                if not os.path.exists('extracted_form_test/' + str(folder_name)):\n",
        "                  os.makedirs('extracted_form_test/' + str(folder_name))\n",
        "                if not empty_cell(cell):\n",
        "                  cv2.imwrite('extracted_form_test/{}/{}.png'.format(str(folder_name) , info[index] + str(image_number)), cell)\n",
        "                  image_number += 1\n",
        "            index += 1\n",
        "            image_number = 1\n",
        "    for c in sorted_X:\n",
        "        x, y, w, h = cv2.boundingRect(c)\n",
        "        if (w > 16 and w < 22 and y > 300 and h / w > 0.95):\n",
        "            cell = J[y:y + h, x:x + w]\n",
        "            if not os.path.exists('extracted_form_test/' + str(folder_name)):\n",
        "              os.makedirs('extracted_form_test/' + str(folder_name))\n",
        "            cv2.imwrite('extracted_form_test/{}/{}.png'.format(str(folder_name), degree[count]), cell)\n",
        "            degree_option.append(cell)\n",
        "            count += 1\n",
        "\n",
        "    return degree[detect_degree(degree_option)]  "
      ],
      "execution_count": null,
      "outputs": []
    },
    {
      "cell_type": "code",
      "metadata": {
        "id": "h5TImdWQxnzk",
        "colab_type": "code",
        "colab": {
          "base_uri": "https://localhost:8080/",
          "height": 35
        },
        "outputId": "9e99e7e0-0b70-4d6b-cf39-1a3887c36340"
      },
      "source": [
        "form_test_dir = glob.glob(\"form_test/*\")\n",
        "\n",
        "for test_dir in tqdm(form_test_dir):\n",
        "    dir = test_dir.split(os.path.sep)[-1]\n",
        "    folder_name = dir[:-4]\n",
        "    Degree[folder_name] = extracted_form_test(test_dir)\n"
      ],
      "execution_count": null,
      "outputs": [
        {
          "output_type": "stream",
          "text": [
            "100%|██████████| 20/20 [05:27<00:00, 16.40s/it]\n"
          ],
          "name": "stderr"
        }
      ]
    },
    {
      "cell_type": "markdown",
      "metadata": {
        "id": "rAxAsyWDEtsj",
        "colab_type": "text"
      },
      "source": [
        "# Digit Neural Network"
      ]
    },
    {
      "cell_type": "code",
      "metadata": {
        "id": "Rn5ulSw1E1Pp",
        "colab_type": "code",
        "colab": {}
      },
      "source": [
        "num_classes_digit = 10\n",
        "EPOCHS_digit = 10\n",
        "BS_digit = 32"
      ],
      "execution_count": null,
      "outputs": []
    },
    {
      "cell_type": "code",
      "metadata": {
        "id": "u0Qoqp42KCVi",
        "colab_type": "code",
        "colab": {}
      },
      "source": [
        "data_digit = np.array(data_digit, dtype=np.float) / 255.\n",
        "labels_digit = np.array(labels_digit)"
      ],
      "execution_count": null,
      "outputs": []
    },
    {
      "cell_type": "code",
      "metadata": {
        "id": "4Oq94tSEFShj",
        "colab_type": "code",
        "colab": {}
      },
      "source": [
        "from sklearn.model_selection import train_test_split\n",
        "train_input_digit, test_input_digit, train_target_digit, test_target_digit =  train_test_split(data_digit,\n",
        "                                                                              labels_digit,\n",
        "                                                                              test_size=0.05,\n",
        "                                                                              random_state=123)\n",
        "train_input_digit, valid_input_digit, train_target_digit, valid_target_digit =  train_test_split(train_input_digit,\n",
        "                                                                                train_target_digit,\n",
        "                                                                                test_size=0.25,\n",
        "                                                                                random_state=123)"
      ],
      "execution_count": null,
      "outputs": []
    },
    {
      "cell_type": "code",
      "metadata": {
        "id": "2e2F-q9FF6R9",
        "colab_type": "code",
        "colab": {}
      },
      "source": [
        "from keras.utils import to_categorical\n",
        "train_target_digit = to_categorical(train_target_digit, num_classes=num_classes_digit)\n",
        "valid_target_digit = to_categorical(valid_target_digit, num_classes=num_classes_digit)"
      ],
      "execution_count": null,
      "outputs": []
    },
    {
      "cell_type": "code",
      "metadata": {
        "id": "a-sn7ZCJGIVB",
        "colab_type": "code",
        "colab": {}
      },
      "source": [
        "from keras.preprocessing.image import ImageDataGenerator\n",
        "aug = ImageDataGenerator(rotation_range=15, width_shift_range=0.1, height_shift_range=0.1)"
      ],
      "execution_count": null,
      "outputs": []
    },
    {
      "cell_type": "code",
      "metadata": {
        "id": "F_GjetfAGQF0",
        "colab_type": "code",
        "colab": {}
      },
      "source": [
        "from keras.layers import Conv2D, MaxPool2D, Flatten, Dense\n",
        "from keras.models import Model\n",
        "def build_model(inputs):\n",
        "  x = inputs\n",
        "\n",
        "  x = Conv2D(filters=20, kernel_size=(5, 5), padding=\"same\", activation=\"relu\")(x)\n",
        "  x = MaxPool2D(pool_size=(2, 2), strides=(2, 2))(x)\n",
        "\n",
        "  x = Conv2D(filters=50, kernel_size=(5, 5), padding=\"same\", activation=\"relu\")(x)\n",
        "  x = MaxPool2D(pool_size=(2, 2), strides=(2, 2))(x) \n",
        "\n",
        "  x = Flatten()(x)\n",
        "  x = Dense(500, activation=\"relu\")(x)\n",
        "  outputs = Dense(num_classes_digit, activation=\"softmax\")(x)\n",
        "\n",
        "  model = Model(inputs, outputs, name=\"LeNet\")\n",
        "  model.summary()\n",
        "  \n",
        "  return model"
      ],
      "execution_count": null,
      "outputs": []
    },
    {
      "cell_type": "code",
      "metadata": {
        "id": "8S9Qr8ajGUmT",
        "colab_type": "code",
        "colab": {
          "base_uri": "https://localhost:8080/",
          "height": 1000
        },
        "outputId": "204cea6e-17c8-4538-c56c-a1e678cf5d78"
      },
      "source": [
        "from keras.layers import Input\n",
        "from keras.optimizers import Adam\n",
        "from keras.callbacks import ModelCheckpoint\n",
        "\n",
        "input = Input((28, 28, 1))\n",
        "model_digit = build_model(input)\n",
        "\n",
        "opt = Adam()\n",
        "model_digit.compile(loss=\"categorical_crossentropy\", optimizer=opt, metrics=[\"acc\"])\n",
        "\n",
        "checkpoint = ModelCheckpoint(filepath=\"model_digit.h5\",\n",
        "                             monitor=\"val_acc\",\n",
        "                             verbose=1,\n",
        "                             save_best_only=True)\n",
        "batches = aug.flow(train_input_digit, train_target_digit, batch_size=BS_digit)\n",
        "training_log = model_digit.fit_generator(batches,\n",
        "                        samples_per_epoch=batches.n,\n",
        "                        steps_per_epoch=len(train_input_digit) // BS_digit,\n",
        "                        validation_data=[valid_input_digit, valid_target_digit],\n",
        "                        epochs=EPOCHS_digit,\n",
        "                        callbacks=[checkpoint])"
      ],
      "execution_count": null,
      "outputs": [
        {
          "output_type": "stream",
          "text": [
            "Model: \"LeNet\"\n",
            "_________________________________________________________________\n",
            "Layer (type)                 Output Shape              Param #   \n",
            "=================================================================\n",
            "input_7 (InputLayer)         (None, 28, 28, 1)         0         \n",
            "_________________________________________________________________\n",
            "conv2d_13 (Conv2D)           (None, 28, 28, 20)        520       \n",
            "_________________________________________________________________\n",
            "max_pooling2d_13 (MaxPooling (None, 14, 14, 20)        0         \n",
            "_________________________________________________________________\n",
            "conv2d_14 (Conv2D)           (None, 14, 14, 50)        25050     \n",
            "_________________________________________________________________\n",
            "max_pooling2d_14 (MaxPooling (None, 7, 7, 50)          0         \n",
            "_________________________________________________________________\n",
            "flatten_7 (Flatten)          (None, 2450)              0         \n",
            "_________________________________________________________________\n",
            "dense_12 (Dense)             (None, 500)               1225500   \n",
            "_________________________________________________________________\n",
            "dense_13 (Dense)             (None, 10)                5010      \n",
            "=================================================================\n",
            "Total params: 1,256,080\n",
            "Trainable params: 1,256,080\n",
            "Non-trainable params: 0\n",
            "_________________________________________________________________\n"
          ],
          "name": "stdout"
        },
        {
          "output_type": "stream",
          "text": [
            "/usr/local/lib/python3.6/dist-packages/ipykernel_launcher.py:21: UserWarning: Update your `fit_generator` call to the Keras 2 API: `fit_generator(<keras.pre..., steps_per_epoch=352, validation_data=[array([[[..., epochs=10, callbacks=[<keras.ca...)`\n"
          ],
          "name": "stderr"
        },
        {
          "output_type": "stream",
          "text": [
            "Epoch 1/10\n",
            "352/352 [==============================] - 28s 80ms/step - loss: 1.7767 - acc: 0.3348 - val_loss: 0.9924 - val_acc: 0.6743\n",
            "\n",
            "Epoch 00001: val_acc improved from -inf to 0.67428, saving model to model_digit.h5\n",
            "Epoch 2/10\n",
            "352/352 [==============================] - 28s 80ms/step - loss: 0.9304 - acc: 0.6914 - val_loss: 0.5183 - val_acc: 0.8249\n",
            "\n",
            "Epoch 00002: val_acc improved from 0.67428 to 0.82492, saving model to model_digit.h5\n",
            "Epoch 3/10\n",
            "352/352 [==============================] - 28s 79ms/step - loss: 0.6208 - acc: 0.7890 - val_loss: 0.3372 - val_acc: 0.8921\n",
            "\n",
            "Epoch 00003: val_acc improved from 0.82492 to 0.89214, saving model to model_digit.h5\n",
            "Epoch 4/10\n",
            "352/352 [==============================] - 28s 79ms/step - loss: 0.4768 - acc: 0.8430 - val_loss: 0.2818 - val_acc: 0.9033\n",
            "\n",
            "Epoch 00004: val_acc improved from 0.89214 to 0.90329, saving model to model_digit.h5\n",
            "Epoch 5/10\n",
            "352/352 [==============================] - 28s 79ms/step - loss: 0.3657 - acc: 0.8789 - val_loss: 0.2331 - val_acc: 0.9200\n",
            "\n",
            "Epoch 00005: val_acc improved from 0.90329 to 0.92003, saving model to model_digit.h5\n",
            "Epoch 6/10\n",
            "352/352 [==============================] - 28s 79ms/step - loss: 0.3133 - acc: 0.8992 - val_loss: 0.1735 - val_acc: 0.9447\n",
            "\n",
            "Epoch 00006: val_acc improved from 0.92003 to 0.94474, saving model to model_digit.h5\n",
            "Epoch 7/10\n",
            "352/352 [==============================] - 28s 79ms/step - loss: 0.2678 - acc: 0.9154 - val_loss: 0.1613 - val_acc: 0.9516\n",
            "\n",
            "Epoch 00007: val_acc improved from 0.94474 to 0.95165, saving model to model_digit.h5\n",
            "Epoch 8/10\n",
            "352/352 [==============================] - 28s 79ms/step - loss: 0.2420 - acc: 0.9212 - val_loss: 0.1592 - val_acc: 0.9514\n",
            "\n",
            "Epoch 00008: val_acc did not improve from 0.95165\n",
            "Epoch 9/10\n",
            "352/352 [==============================] - 28s 78ms/step - loss: 0.2146 - acc: 0.9335 - val_loss: 0.1386 - val_acc: 0.9588\n",
            "\n",
            "Epoch 00009: val_acc improved from 0.95165 to 0.95882, saving model to model_digit.h5\n",
            "Epoch 10/10\n",
            "352/352 [==============================] - 28s 79ms/step - loss: 0.1877 - acc: 0.9395 - val_loss: 0.1380 - val_acc: 0.9564\n",
            "\n",
            "Epoch 00010: val_acc did not improve from 0.95882\n"
          ],
          "name": "stdout"
        }
      ]
    },
    {
      "cell_type": "code",
      "metadata": {
        "id": "PTynIeqtKS8d",
        "colab_type": "code",
        "colab": {}
      },
      "source": [
        "from matplotlib import pyplot as plt\n",
        "plt.style.use(\"ggplot\")\n",
        "plt.figure()\n",
        "plt.plot(np.arange(EPOCHS_digit), training_log.history[\"loss\"], label=\"train_loss\")\n",
        "plt.plot(np.arange(EPOCHS_digit), training_log.history[\"acc\"], label=\"train_acc\")\n",
        "plt.plot(np.arange(EPOCHS_digit), training_log.history[\"val_loss\"], label=\"val_loss\")\n",
        "plt.plot(np.arange(EPOCHS_digit), training_log.history[\"val_acc\"], label=\"val_acc\")\n",
        "plt.xlabel(\"Epochs\")\n",
        "plt.ylabel(\"loss/accuracy\")\n",
        "plt.title(\"training plot digit\")\n",
        "plt.legend(loc=\"lower left\")\n",
        "plt.savefig(\"training_plot_digit.png\")"
      ],
      "execution_count": null,
      "outputs": []
    },
    {
      "cell_type": "code",
      "metadata": {
        "id": "O1LDlDhVLlfG",
        "colab_type": "code",
        "colab": {
          "base_uri": "https://localhost:8080/",
          "height": 35
        },
        "outputId": "dd0c4781-4e4b-46b9-d225-8b4cc9dc0304"
      },
      "source": [
        "correct = 0\n",
        "for idx,test in enumerate(test_input_digit):\n",
        "  test = np.expand_dims(test, 0)\n",
        "  model_digit.load_weights(\"model_digit.h5\")\n",
        "  predictions = model_digit.predict(test)[0]\n",
        "  label = np.argmax(predictions)\n",
        "  if (label == test_target_digit[idx]):  \n",
        "    correct += 1\n",
        "test_accuracy = correct/len(test_target_digit)\n",
        "print(\"test_accuracy_digit:\" , test_accuracy)"
      ],
      "execution_count": null,
      "outputs": [
        {
          "output_type": "stream",
          "text": [
            "test_accuracy_digit: 0.9773013871374527\n"
          ],
          "name": "stdout"
        }
      ]
    },
    {
      "cell_type": "markdown",
      "metadata": {
        "id": "-sxai6O-MRKT",
        "colab_type": "text"
      },
      "source": [
        "# Letter Neural Network"
      ]
    },
    {
      "cell_type": "code",
      "metadata": {
        "id": "FI0YeXzJMcfw",
        "colab_type": "code",
        "colab": {}
      },
      "source": [
        "num_classes_letter = 32\n",
        "EPOCHS_letter = 20\n",
        "BS_letter = 32"
      ],
      "execution_count": null,
      "outputs": []
    },
    {
      "cell_type": "code",
      "metadata": {
        "id": "UXbpXvzfMnt7",
        "colab_type": "code",
        "colab": {}
      },
      "source": [
        "data_letter = np.array(data_letter, dtype=np.float) / 255.\n",
        "labels_letter = np.array(labels_letter)"
      ],
      "execution_count": null,
      "outputs": []
    },
    {
      "cell_type": "code",
      "metadata": {
        "id": "uhPv4FZAMyLB",
        "colab_type": "code",
        "colab": {}
      },
      "source": [
        "from sklearn.model_selection import train_test_split\n",
        "train_input_letter, test_input_letter, train_target_letter, test_target_letter =  train_test_split(data_letter,\n",
        "                                                                              labels_letter,\n",
        "                                                                              test_size=0.05,\n",
        "                                                                              random_state=123)\n",
        "train_input_letter, valid_input_letter, train_target_letter, valid_target_letter =  train_test_split(train_input_letter,\n",
        "                                                                                train_target_letter,\n",
        "                                                                                test_size=0.25,\n",
        "                                                                                random_state=123)"
      ],
      "execution_count": null,
      "outputs": []
    },
    {
      "cell_type": "code",
      "metadata": {
        "id": "EqRjesGVMyY_",
        "colab_type": "code",
        "colab": {
          "base_uri": "https://localhost:8080/",
          "height": 35
        },
        "outputId": "01eac926-9ec6-47b6-d36b-8129c555ab56"
      },
      "source": [
        "from keras.utils import to_categorical\n",
        "train_target_letter = to_categorical(train_target_letter, num_classes=num_classes_letter)\n",
        "valid_target_letter = to_categorical(valid_target_letter, num_classes=num_classes_letter)"
      ],
      "execution_count": null,
      "outputs": [
        {
          "output_type": "stream",
          "text": [
            "Using TensorFlow backend.\n"
          ],
          "name": "stderr"
        }
      ]
    },
    {
      "cell_type": "code",
      "metadata": {
        "id": "hbj6efXRMyhn",
        "colab_type": "code",
        "colab": {}
      },
      "source": [
        "from keras.preprocessing.image import ImageDataGenerator\n",
        "aug = ImageDataGenerator(rotation_range=15, width_shift_range=0.1, height_shift_range=0.1)"
      ],
      "execution_count": null,
      "outputs": []
    },
    {
      "cell_type": "code",
      "metadata": {
        "id": "uYlj-JFJMylm",
        "colab_type": "code",
        "colab": {
          "base_uri": "https://localhost:8080/",
          "height": 35
        },
        "outputId": "1a581814-7d5d-4207-9f1f-fb8f1426016f"
      },
      "source": [
        "from keras.layers import Conv2D, MaxPool2D, Flatten, Dense\n",
        "from keras.models import Model\n",
        "def build_model_letter(inputs):\n",
        "  x = inputs\n",
        "\n",
        "  x = Conv2D(filters=20, kernel_size=(5, 5), padding=\"same\", activation=\"relu\")(x)\n",
        "  x = MaxPool2D(pool_size=(2, 2), strides=(2, 2))(x)\n",
        "\n",
        "  x = Conv2D(filters=50, kernel_size=(5, 5), padding=\"same\", activation=\"relu\")(x)\n",
        "  x = MaxPool2D(pool_size=(2, 2), strides=(2, 2))(x) \n",
        "\n",
        "  x = Flatten()(x)\n",
        "  x = Dense(500, activation=\"relu\")(x)\n",
        "  outputs = Dense(num_classes_letter, activation=\"softmax\")(x)\n",
        "\n",
        "  model = Model(inputs, outputs, name=\"LeNet\")\n",
        "  model.summary()\n",
        "  \n",
        "  return model"
      ],
      "execution_count": null,
      "outputs": [
        {
          "output_type": "stream",
          "text": [
            "Using TensorFlow backend.\n"
          ],
          "name": "stderr"
        }
      ]
    },
    {
      "cell_type": "code",
      "metadata": {
        "id": "uhu3ONexMyqE",
        "colab_type": "code",
        "colab": {
          "base_uri": "https://localhost:8080/",
          "height": 1000
        },
        "outputId": "488ae458-8909-4599-b4ec-aeaaac1ff87d"
      },
      "source": [
        "from keras.layers import Input\n",
        "from keras.optimizers import Adam\n",
        "from keras.callbacks import ModelCheckpoint\n",
        "\n",
        "input = Input((28, 28, 1))\n",
        "model_letter = build_model_letter(input)\n",
        "\n",
        "opt = Adam()\n",
        "model_letter.compile(loss=\"categorical_crossentropy\", optimizer=opt, metrics=[\"acc\"])\n",
        "\n",
        "checkpoint = ModelCheckpoint(filepath=\"model_letter.h5\",\n",
        "                             monitor=\"val_acc\",\n",
        "                             verbose=1,\n",
        "                             save_best_only=True)\n",
        "batches = aug.flow(train_input_letter, train_target_letter, batch_size=BS_letter)\n",
        "training_log = model_letter.fit_generator(batches,\n",
        "                        samples_per_epoch=batches.n,\n",
        "                        steps_per_epoch=len(train_input_letter) // BS_letter,\n",
        "                        validation_data=[valid_input_letter, valid_target_letter],\n",
        "                        epochs=EPOCHS_letter,\n",
        "                        callbacks=[checkpoint])"
      ],
      "execution_count": null,
      "outputs": [
        {
          "output_type": "stream",
          "text": [
            "Model: \"LeNet\"\n",
            "_________________________________________________________________\n",
            "Layer (type)                 Output Shape              Param #   \n",
            "=================================================================\n",
            "input_1 (InputLayer)         (None, 28, 28, 1)         0         \n",
            "_________________________________________________________________\n",
            "conv2d_1 (Conv2D)            (None, 28, 28, 20)        520       \n",
            "_________________________________________________________________\n",
            "max_pooling2d_1 (MaxPooling2 (None, 14, 14, 20)        0         \n",
            "_________________________________________________________________\n",
            "conv2d_2 (Conv2D)            (None, 14, 14, 50)        25050     \n",
            "_________________________________________________________________\n",
            "max_pooling2d_2 (MaxPooling2 (None, 7, 7, 50)          0         \n",
            "_________________________________________________________________\n",
            "flatten_1 (Flatten)          (None, 2450)              0         \n",
            "_________________________________________________________________\n",
            "dense_1 (Dense)              (None, 500)               1225500   \n",
            "_________________________________________________________________\n",
            "dense_2 (Dense)              (None, 32)                16032     \n",
            "=================================================================\n",
            "Total params: 1,267,102\n",
            "Trainable params: 1,267,102\n",
            "Non-trainable params: 0\n",
            "_________________________________________________________________\n"
          ],
          "name": "stdout"
        },
        {
          "output_type": "stream",
          "text": [
            "/usr/local/lib/python3.6/dist-packages/ipykernel_launcher.py:21: UserWarning: Update your `fit_generator` call to the Keras 2 API: `fit_generator(<keras.pre..., steps_per_epoch=1466, validation_data=[array([[[..., epochs=20, callbacks=[<keras.ca...)`\n"
          ],
          "name": "stderr"
        },
        {
          "output_type": "stream",
          "text": [
            "Epoch 1/20\n",
            "1466/1466 [==============================] - 123s 84ms/step - loss: 3.3946 - acc: 0.0498 - val_loss: 2.2212 - val_acc: 0.3349\n",
            "\n",
            "Epoch 00001: val_acc improved from -inf to 0.33493, saving model to model_letter.h5\n",
            "Epoch 2/20\n",
            "1466/1466 [==============================] - 119s 81ms/step - loss: 1.6572 - acc: 0.4843 - val_loss: 0.9504 - val_acc: 0.6918\n",
            "\n",
            "Epoch 00002: val_acc improved from 0.33493 to 0.69178, saving model to model_letter.h5\n",
            "Epoch 3/20\n",
            "1466/1466 [==============================] - 119s 81ms/step - loss: 1.0594 - acc: 0.6598 - val_loss: 0.6220 - val_acc: 0.7956\n",
            "\n",
            "Epoch 00003: val_acc improved from 0.69178 to 0.79556, saving model to model_letter.h5\n",
            "Epoch 4/20\n",
            "1466/1466 [==============================] - 119s 81ms/step - loss: 0.7534 - acc: 0.7503 - val_loss: 0.4762 - val_acc: 0.8415\n",
            "\n",
            "Epoch 00004: val_acc improved from 0.79556 to 0.84151, saving model to model_letter.h5\n",
            "Epoch 5/20\n",
            "1466/1466 [==============================] - 119s 81ms/step - loss: 0.6018 - acc: 0.8006 - val_loss: 0.3909 - val_acc: 0.8731\n",
            "\n",
            "Epoch 00005: val_acc improved from 0.84151 to 0.87315, saving model to model_letter.h5\n",
            "Epoch 6/20\n",
            "1466/1466 [==============================] - 122s 83ms/step - loss: 0.5271 - acc: 0.8234 - val_loss: 0.3686 - val_acc: 0.8754\n",
            "\n",
            "Epoch 00006: val_acc improved from 0.87315 to 0.87545, saving model to model_letter.h5\n",
            "Epoch 7/20\n",
            "1466/1466 [==============================] - 119s 81ms/step - loss: 0.4621 - acc: 0.8455 - val_loss: 0.2999 - val_acc: 0.8999\n",
            "\n",
            "Epoch 00007: val_acc improved from 0.87545 to 0.89992, saving model to model_letter.h5\n",
            "Epoch 8/20\n",
            "1466/1466 [==============================] - 118s 81ms/step - loss: 0.4180 - acc: 0.8592 - val_loss: 0.2657 - val_acc: 0.9110\n",
            "\n",
            "Epoch 00008: val_acc improved from 0.89992 to 0.91098, saving model to model_letter.h5\n",
            "Epoch 9/20\n",
            "1466/1466 [==============================] - 118s 81ms/step - loss: 0.3837 - acc: 0.8693 - val_loss: 0.3069 - val_acc: 0.8950\n",
            "\n",
            "Epoch 00009: val_acc did not improve from 0.91098\n",
            "Epoch 10/20\n",
            "1466/1466 [==============================] - 118s 81ms/step - loss: 0.3581 - acc: 0.8784 - val_loss: 0.2235 - val_acc: 0.9249\n",
            "\n",
            "Epoch 00010: val_acc improved from 0.91098 to 0.92491, saving model to model_letter.h5\n",
            "Epoch 11/20\n",
            "1466/1466 [==============================] - 119s 81ms/step - loss: 0.3321 - acc: 0.8859 - val_loss: 0.2050 - val_acc: 0.9330\n",
            "\n",
            "Epoch 00011: val_acc improved from 0.92491 to 0.93296, saving model to model_letter.h5\n",
            "Epoch 12/20\n",
            "1466/1466 [==============================] - 122s 83ms/step - loss: 0.3107 - acc: 0.8932 - val_loss: 0.1913 - val_acc: 0.9346\n",
            "\n",
            "Epoch 00012: val_acc improved from 0.93296 to 0.93462, saving model to model_letter.h5\n",
            "Epoch 13/20\n",
            "1466/1466 [==============================] - 119s 81ms/step - loss: 0.2946 - acc: 0.8989 - val_loss: 0.2739 - val_acc: 0.9072\n",
            "\n",
            "Epoch 00013: val_acc did not improve from 0.93462\n",
            "Epoch 14/20\n",
            "1466/1466 [==============================] - 118s 81ms/step - loss: 0.2748 - acc: 0.9051 - val_loss: 0.1798 - val_acc: 0.9403\n",
            "\n",
            "Epoch 00014: val_acc improved from 0.93462 to 0.94031, saving model to model_letter.h5\n",
            "Epoch 15/20\n",
            "1466/1466 [==============================] - 119s 81ms/step - loss: 0.2633 - acc: 0.9086 - val_loss: 0.1962 - val_acc: 0.9320\n",
            "\n",
            "Epoch 00015: val_acc did not improve from 0.94031\n",
            "Epoch 16/20\n",
            "1466/1466 [==============================] - 118s 81ms/step - loss: 0.2516 - acc: 0.9135 - val_loss: 0.1832 - val_acc: 0.9388\n",
            "\n",
            "Epoch 00016: val_acc did not improve from 0.94031\n",
            "Epoch 17/20\n",
            "1466/1466 [==============================] - 121s 83ms/step - loss: 0.2450 - acc: 0.9157 - val_loss: 0.1678 - val_acc: 0.9429\n",
            "\n",
            "Epoch 00017: val_acc improved from 0.94031 to 0.94287, saving model to model_letter.h5\n",
            "Epoch 18/20\n",
            "1466/1466 [==============================] - 118s 81ms/step - loss: 0.2334 - acc: 0.9184 - val_loss: 0.1685 - val_acc: 0.9402\n",
            "\n",
            "Epoch 00018: val_acc did not improve from 0.94287\n",
            "Epoch 19/20\n",
            "1466/1466 [==============================] - 118s 81ms/step - loss: 0.2280 - acc: 0.9221 - val_loss: 0.1373 - val_acc: 0.9519\n",
            "\n",
            "Epoch 00019: val_acc improved from 0.94287 to 0.95194, saving model to model_letter.h5\n",
            "Epoch 20/20\n",
            "1466/1466 [==============================] - 119s 81ms/step - loss: 0.2188 - acc: 0.9235 - val_loss: 0.1444 - val_acc: 0.9508\n",
            "\n",
            "Epoch 00020: val_acc did not improve from 0.95194\n"
          ],
          "name": "stdout"
        }
      ]
    },
    {
      "cell_type": "code",
      "metadata": {
        "id": "S3_dyJgFMyvk",
        "colab_type": "code",
        "colab": {
          "base_uri": "https://localhost:8080/",
          "height": 299
        },
        "outputId": "901734f9-67a6-4a65-ff85-bee46a3edd0d"
      },
      "source": [
        "from matplotlib import pyplot as plt\n",
        "plt.style.use(\"ggplot\")\n",
        "plt.figure()\n",
        "plt.plot(np.arange(EPOCHS_letter), training_log.history[\"loss\"], label=\"train_loss\")\n",
        "plt.plot(np.arange(EPOCHS_letter), training_log.history[\"acc\"], label=\"train_acc\")\n",
        "plt.plot(np.arange(EPOCHS_letter), training_log.history[\"val_loss\"], label=\"val_loss\")\n",
        "plt.plot(np.arange(EPOCHS_letter), training_log.history[\"val_acc\"], label=\"val_acc\")\n",
        "plt.xlabel(\"Epochs\")\n",
        "plt.ylabel(\"loss/accuracy\")\n",
        "plt.title(\"training plot digit\")\n",
        "plt.legend(loc=\"lower left\")\n",
        "plt.savefig(\"training_plot_letter.png\")"
      ],
      "execution_count": null,
      "outputs": [
        {
          "output_type": "display_data",
          "data": {
            "image/png": "[encoded data removed]",
            "text/plain": [
              "<Figure size 432x288 with 1 Axes>"
            ]
          },
          "metadata": {
            "tags": []
          }
        }
      ]
    },
    {
      "cell_type": "code",
      "metadata": {
        "id": "JL-mh9vLNTso",
        "colab_type": "code",
        "colab": {
          "base_uri": "https://localhost:8080/",
          "height": 35
        },
        "outputId": "52b4f871-105e-4179-a896-0bc171ff26e1"
      },
      "source": [
        "correct = 0\n",
        "false=0\n",
        "for idx,test in enumerate(test_input_letter):\n",
        "  test = np.expand_dims(test, 0)\n",
        "  model_letter.load_weights(\"model_letter.h5\")\n",
        "  predictions = model_letter.predict(test)[0]\n",
        "  label = np.argmax(predictions)\n",
        "  if (label == test_target_letter[idx]): \n",
        "    correct += 1\n",
        "test_accuracy = correct/len(test_target_letter)\n",
        "print(\"test_accuracy_letter:\" , test_accuracy)"
      ],
      "execution_count": null,
      "outputs": [
        {
          "output_type": "stream",
          "text": [
            "test_accuracy_letter: 0.9138088012139606\n"
          ],
          "name": "stdout"
        }
      ]
    },
    {
      "cell_type": "markdown",
      "metadata": {
        "id": "V6XBvgnOlK7K",
        "colab_type": "text"
      },
      "source": [
        "# Resualts\n",
        "\n",
        "**⚠**  Because of the shortage of the dataset size, neural networks couldn't have been trained well and final results are not as good as we expected."
      ]
    },
    {
      "cell_type": "code",
      "metadata": {
        "id": "j1mLBAcYtSJ2",
        "colab_type": "code",
        "colab": {}
      },
      "source": [
        "def predict(model,model_type, imgPath):\n",
        "  image = load_img(imgPath, target_size=(28, 28), grayscale=True)\n",
        "  image = img_to_array(image) / 255.\n",
        "  orig_img = image.copy()\n",
        "  image = np.expand_dims(image, 0)\n",
        "  model.load_weights(model_type)\n",
        "  predictions = model.predict(image)[0]\n",
        "  label = np.argmax(predictions)\n",
        "  return label"
      ],
      "execution_count": null,
      "outputs": []
    },
    {
      "cell_type": "code",
      "metadata": {
        "id": "WFgRL3_sJcvv",
        "colab_type": "code",
        "colab": {}
      },
      "source": [
        "def decode(code):\n",
        "  codes={ 0:'ا',1:'ب',2:'پ',3:'ت',4:'ث',5:'ج',6:'چ',7:'ح',8:'خ',9:'د',10:'ذ',11:'ر',\n",
        "       12:'ز',13:'ژ',14:'س',15:'ش',16:'ص',17:'ض',18:'ط',19:'ظ',20:'ع',21:'غ',22:'ف',23:'ق',\n",
        "       24:'ک',25:'گ',26:'ل',27:'م',28:'ن',29:'و',30:'ه',31:'ی'}\n",
        "  plain = codes[code]\n",
        "  return plain"
      ],
      "execution_count": null,
      "outputs": []
    },
    {
      "cell_type": "code",
      "metadata": {
        "id": "c9nrQ6hSS0bP",
        "colab_type": "code",
        "colab": {
          "base_uri": "https://localhost:8080/",
          "height": 1000
        },
        "outputId": "76dc148c-f876-4436-b001-eca37ab497c2"
      },
      "source": [
        "from keras.layers import Input\n",
        "input = Input((28, 28, 1))\n",
        "model_digit = build_model(input)\n",
        "model_letter = build_model_letter(input)\n",
        "\n",
        "from keras.preprocessing.image import load_img, img_to_array\n",
        "model_type = None\n",
        "detected_ID = ''\n",
        "detected_FN = ''\n",
        "detected_LN = ''\n",
        "test_forms = glob.glob(\"extracted_form_test/*\")\n",
        "test_forms.sort(key=lambda f: int(''.join(filter(str.isdigit, f))))\n",
        "for test_dir in test_forms:\n",
        "  form_id = test_dir.split(os.path.sep)[-1]\n",
        "  imgPaths = glob.glob(test_dir + \"/*.png\")\n",
        "  imgPaths.sort(key=lambda f: int(''.join(filter(str.isdigit, f))))\n",
        "  for imgPath in tqdm(imgPaths):\n",
        "    image = load_img(imgPath, target_size=(28, 28), grayscale=True)\n",
        "    image = img_to_array(image) / 255.\n",
        "    orig_img = image.copy()\n",
        "    image = np.expand_dims(image, 0)\n",
        "    if(imgPath.find('ID') != -1):\n",
        "      model_type = 'model_digit.h5'\n",
        "      detected_ID += str(predict(model_digit,model_type,imgPath))\n",
        "    if(imgPath.find('FN') != -1):\n",
        "      model_type = 'model_letter.h5'\n",
        "      detected_FN += decode(predict(model_letter,model_type,imgPath))\n",
        "    if(imgPath.find('LN')!=-1):\n",
        "      model_type = 'model_letter.h5'\n",
        "      detected_LN += decode(predict(model_letter,model_type,imgPath))\n",
        "  ID[form_id] = detected_ID\n",
        "  detected_ID = ''\n",
        "  Firstname[form_id] = detected_FN[::-1]\n",
        "  detected_FN = ''\n",
        "  Lastname[form_id] = detected_LN[::-1]\n",
        "  detected_LN = ''"
      ],
      "execution_count": null,
      "outputs": [
        {
          "output_type": "stream",
          "text": [
            "\r  0%|          | 0/22 [00:00<?, ?it/s]"
          ],
          "name": "stderr"
        },
        {
          "output_type": "stream",
          "text": [
            "Model: \"LeNet\"\n",
            "_________________________________________________________________\n",
            "Layer (type)                 Output Shape              Param #   \n",
            "=================================================================\n",
            "input_1 (InputLayer)         (None, 28, 28, 1)         0         \n",
            "_________________________________________________________________\n",
            "conv2d_1 (Conv2D)            (None, 28, 28, 20)        520       \n",
            "_________________________________________________________________\n",
            "max_pooling2d_1 (MaxPooling2 (None, 14, 14, 20)        0         \n",
            "_________________________________________________________________\n",
            "conv2d_2 (Conv2D)            (None, 14, 14, 50)        25050     \n",
            "_________________________________________________________________\n",
            "max_pooling2d_2 (MaxPooling2 (None, 7, 7, 50)          0         \n",
            "_________________________________________________________________\n",
            "flatten_1 (Flatten)          (None, 2450)              0         \n",
            "_________________________________________________________________\n",
            "dense_1 (Dense)              (None, 500)               1225500   \n",
            "_________________________________________________________________\n",
            "dense_2 (Dense)              (None, 10)                5010      \n",
            "=================================================================\n",
            "Total params: 1,256,080\n",
            "Trainable params: 1,256,080\n",
            "Non-trainable params: 0\n",
            "_________________________________________________________________\n",
            "Model: \"LeNet\"\n",
            "_________________________________________________________________\n",
            "Layer (type)                 Output Shape              Param #   \n",
            "=================================================================\n",
            "input_1 (InputLayer)         (None, 28, 28, 1)         0         \n",
            "_________________________________________________________________\n",
            "conv2d_3 (Conv2D)            (None, 28, 28, 20)        520       \n",
            "_________________________________________________________________\n",
            "max_pooling2d_3 (MaxPooling2 (None, 14, 14, 20)        0         \n",
            "_________________________________________________________________\n",
            "conv2d_4 (Conv2D)            (None, 14, 14, 50)        25050     \n",
            "_________________________________________________________________\n",
            "max_pooling2d_4 (MaxPooling2 (None, 7, 7, 50)          0         \n",
            "_________________________________________________________________\n",
            "flatten_2 (Flatten)          (None, 2450)              0         \n",
            "_________________________________________________________________\n",
            "dense_3 (Dense)              (None, 500)               1225500   \n",
            "_________________________________________________________________\n",
            "dense_4 (Dense)              (None, 32)                16032     \n",
            "=================================================================\n",
            "Total params: 1,267,102\n",
            "Trainable params: 1,267,102\n",
            "Non-trainable params: 0\n",
            "_________________________________________________________________\n"
          ],
          "name": "stdout"
        },
        {
          "output_type": "stream",
          "text": [
            "/usr/local/lib/python3.6/dist-packages/keras_preprocessing/image/utils.py:107: UserWarning: grayscale is deprecated. Please use color_mode = \"grayscale\"\n",
            "  warnings.warn('grayscale is deprecated. Please use '\n",
            "100%|██████████| 22/22 [00:26<00:00,  1.22s/it]\n",
            "100%|██████████| 27/27 [00:18<00:00,  1.45it/s]\n",
            "100%|██████████| 21/21 [00:13<00:00,  1.52it/s]\n",
            "100%|██████████| 22/22 [00:13<00:00,  1.58it/s]\n",
            "100%|██████████| 28/28 [00:17<00:00,  1.58it/s]\n",
            "100%|██████████| 24/24 [00:15<00:00,  1.56it/s]\n",
            "100%|██████████| 23/23 [00:14<00:00,  1.63it/s]\n",
            "100%|██████████| 26/26 [00:15<00:00,  1.69it/s]\n",
            "100%|██████████| 23/23 [00:13<00:00,  1.68it/s]\n",
            "100%|██████████| 21/21 [00:12<00:00,  1.70it/s]\n",
            "100%|██████████| 26/26 [00:16<00:00,  1.56it/s]\n",
            "100%|██████████| 23/23 [00:12<00:00,  1.77it/s]\n",
            "100%|██████████| 24/24 [00:14<00:00,  1.68it/s]\n",
            "100%|██████████| 24/24 [00:14<00:00,  1.62it/s]\n",
            "100%|██████████| 23/23 [00:13<00:00,  1.65it/s]\n",
            "100%|██████████| 21/21 [00:11<00:00,  1.80it/s]\n",
            "100%|██████████| 25/25 [00:15<00:00,  1.62it/s]\n",
            "100%|██████████| 26/26 [00:17<00:00,  1.48it/s]\n",
            "100%|██████████| 24/24 [00:15<00:00,  1.59it/s]\n",
            "100%|██████████| 23/23 [00:13<00:00,  1.73it/s]\n"
          ],
          "name": "stderr"
        }
      ]
    },
    {
      "cell_type": "code",
      "metadata": {
        "id": "BEe1_3LaWfYx",
        "colab_type": "code",
        "colab": {
          "base_uri": "https://localhost:8080/",
          "height": 1000
        },
        "outputId": "e4f5b251-a76a-41fa-cc6a-34f6f0075a3d"
      },
      "source": [
        "for key,value in Lastname.items():\n",
        "  print(\"-------------------------------------\")\n",
        "  print(\"Image:\", key)\n",
        "  print(\"ID\",ID[key])\n",
        "  print(\"Firstname\",Firstname[key])\n",
        "  print(\"Lastname\",Lastname[key])\n",
        "  print(\"Degree\", Degree[key])\n"
      ],
      "execution_count": null,
      "outputs": [
        {
          "output_type": "stream",
          "text": [
            "-------------------------------------\n",
            "Image: 1\n",
            "ID 9657213\n",
            "Firstname نظا\n",
            "Lastname سلطانی\n",
            "Degree PHD\n",
            "-------------------------------------\n",
            "Image: 2\n",
            "ID 0977901\n",
            "Firstname معموتاقر\n",
            "Lastname سالاری\n",
            "Degree BS\n",
            "-------------------------------------\n",
            "Image: 3\n",
            "ID 98756232\n",
            "Firstname شفق\n",
            "Lastname اسدی\n",
            "Degree PHD\n",
            "-------------------------------------\n",
            "Image: 4\n",
            "ID 94444121\n",
            "Firstname نیلا\n",
            "Lastname امین\n",
            "Degree PHD\n",
            "-------------------------------------\n",
            "Image: 5\n",
            "ID 9527502\n",
            "Firstname امیوعلی\n",
            "Lastname حسینزاده\n",
            "Degree BS\n",
            "-------------------------------------\n",
            "Image: 6\n",
            "ID 9323993\n",
            "Firstname طاها\n",
            "Lastname سماواتی\n",
            "Degree BS\n",
            "-------------------------------------\n",
            "Image: 7\n",
            "ID 98731243\n",
            "Firstname فرزاد\n",
            "Lastname صبحی\n",
            "Degree MS\n",
            "-------------------------------------\n",
            "Image: 8\n",
            "ID 95012121\n",
            "Firstname رزیتا\n",
            "Lastname عظیمیان\n",
            "Degree MS\n",
            "-------------------------------------\n",
            "Image: 9\n",
            "ID 99337567\n",
            "Firstname سهبد\n",
            "Lastname تابعی\n",
            "Degree BS\n",
            "-------------------------------------\n",
            "Image: 10\n",
            "ID 9312567\n",
            "Firstname سیما\n",
            "Lastname نظری\n",
            "Degree BS\n",
            "-------------------------------------\n",
            "Image: 11\n",
            "ID 98444114\n",
            "Firstname فزناز\n",
            "Lastname عسننژطد\n",
            "Degree BS\n",
            "-------------------------------------\n",
            "Image: 12\n",
            "ID 11342135\n",
            "Firstname زهراه\n",
            "Lastname بیگی\n",
            "Degree MS\n",
            "-------------------------------------\n",
            "Image: 13\n",
            "ID 92345667\n",
            "Firstname پیتا\n",
            "Lastname بابایی\n",
            "Degree MS\n",
            "-------------------------------------\n",
            "Image: 14\n",
            "ID 9386137\n",
            "Firstname ستایش\n",
            "Lastname ثرهادی\n",
            "Degree PHD\n",
            "-------------------------------------\n",
            "Image: 15\n",
            "ID 9152832\n",
            "Firstname علی\n",
            "Lastname بیراوند\n",
            "Degree MS\n",
            "-------------------------------------\n",
            "Image: 16\n",
            "ID 8252190\n",
            "Firstname اصغر\n",
            "Lastname مثدم\n",
            "Degree PHD\n",
            "-------------------------------------\n",
            "Image: 17\n",
            "ID 9513367\n",
            "Firstname شاهین\n",
            "Lastname کامبیزی\n",
            "Degree PHD\n",
            "-------------------------------------\n",
            "Image: 18\n",
            "ID 93774415\n",
            "Firstname برویذ\n",
            "Lastname اجمدیان\n",
            "Degree MS\n",
            "-------------------------------------\n",
            "Image: 19\n",
            "ID 9731203\n",
            "Firstname سووقا\n",
            "Lastname انصاوی\n",
            "Degree BS\n",
            "-------------------------------------\n",
            "Image: 20\n",
            "ID 96624751\n",
            "Firstname زینب\n",
            "Lastname صتاوی\n",
            "Degree BS\n"
          ],
          "name": "stdout"
        }
      ]
    },
    {
      "cell_type": "markdown",
      "metadata": {
        "id": "9qxVc_4Kzq0c",
        "colab_type": "text"
      },
      "source": [
        "###**Final Resaults**\n",
        "\n",
        "Reading and extracting ID, Firstname, Lastname, and Degree of 20 test forms and computing the time of this process."
      ]
    },
    {
      "cell_type": "code",
      "metadata": {
        "id": "un_VJ3_Cvfke",
        "colab_type": "code",
        "colab": {
          "base_uri": "https://localhost:8080/",
          "height": 1000
        },
        "outputId": "04e46839-bf96-4f13-e4f1-878b9e809fd2"
      },
      "source": [
        "import timeit\n",
        "\n",
        "start = timeit.default_timer()\n",
        "\n",
        "form_test_dir = glob.glob(\"form_test/*\")\n",
        "\n",
        "\n",
        "for test_dir in tqdm(form_test_dir):\n",
        "    dir = test_dir.split(os.path.sep)[-1]\n",
        "    folder_name = dir[:-4]\n",
        "    Degree[folder_name] = extracted_form_test(test_dir)\n",
        "\n",
        "input = Input((28, 28, 1))\n",
        "model_digit = build_model(input)\n",
        "model_letter = build_model_letter(input)\n",
        "\n",
        "from keras.preprocessing.image import load_img, img_to_array\n",
        "model_type = None\n",
        "detected_ID = ''\n",
        "detected_FN = ''\n",
        "detected_LN = ''\n",
        "test_forms = glob.glob(\"extracted_form_test/*\")\n",
        "test_forms.sort(key=lambda f: int(''.join(filter(str.isdigit, f))))\n",
        "for test_dir in test_forms:\n",
        "  form_id = test_dir.split(os.path.sep)[-1]\n",
        "  imgPaths = glob.glob(test_dir + \"/*.png\")\n",
        "  imgPaths.sort(key=lambda f: int(''.join(filter(str.isdigit, f))))\n",
        "  for imgPath in tqdm(imgPaths):\n",
        "    image = load_img(imgPath, target_size=(28, 28), grayscale=True)\n",
        "    image = img_to_array(image) / 255.\n",
        "    orig_img = image.copy()\n",
        "    image = np.expand_dims(image, 0)\n",
        "    if(imgPath.find('ID') != -1):\n",
        "      model_type = 'model_digit.h5'\n",
        "      detected_ID += str(predict(model_digit,model_type,imgPath))\n",
        "    if(imgPath.find('FN') != -1):\n",
        "      model_type = 'model_letter.h5'\n",
        "      detected_FN += decode(predict(model_letter,model_type,imgPath))\n",
        "    if(imgPath.find('LN')!=-1):\n",
        "      model_type = 'model_letter.h5'\n",
        "      detected_LN += decode(predict(model_letter,model_type,imgPath))\n",
        "  ID[form_id] = detected_ID\n",
        "  detected_ID = ''\n",
        "  Firstname[form_id] = detected_FN[::-1]\n",
        "  detected_FN = ''\n",
        "  Lastname[form_id] = detected_LN[::-1]\n",
        "  detected_LN = ''\n",
        "\n",
        "for key,value in Lastname.items():\n",
        "  print(\"-------------------------------------\")\n",
        "  print(\"Form:\", key)\n",
        "  print(\"ID\",ID[key])\n",
        "  print(\"Firstname\",Firstname[key])\n",
        "  print(\"Lastname\",Lastname[key])\n",
        "  print(\"degree:\",Degree[key])\n",
        "\n",
        "stop = timeit.default_timer()\n",
        "print('Time: ', stop - start)"
      ],
      "execution_count": null,
      "outputs": [
        {
          "output_type": "stream",
          "text": [
            "\n",
            "\n",
            "\n",
            "  0%|          | 0/20 [00:00<?, ?it/s]\u001b[A\u001b[A\u001b[A\n",
            "\n",
            "\n",
            "  5%|▌         | 1/20 [00:00<00:05,  3.37it/s]\u001b[A\u001b[A\u001b[A\n",
            "\n",
            "\n",
            " 10%|█         | 2/20 [00:00<00:05,  3.48it/s]\u001b[A\u001b[A\u001b[A\n",
            "\n",
            "\n",
            " 15%|█▌        | 3/20 [00:00<00:04,  3.77it/s]\u001b[A\u001b[A\u001b[A\n",
            "\n",
            "\n",
            " 20%|██        | 4/20 [00:00<00:04,  4.00it/s]\u001b[A\u001b[A\u001b[A\n",
            "\n",
            "\n",
            " 25%|██▌       | 5/20 [00:01<00:03,  3.83it/s]\u001b[A\u001b[A\u001b[A\n",
            "\n",
            "\n",
            " 30%|███       | 6/20 [00:01<00:03,  3.67it/s]\u001b[A\u001b[A\u001b[A\n",
            "\n",
            "\n",
            " 35%|███▌      | 7/20 [00:01<00:03,  3.72it/s]\u001b[A\u001b[A\u001b[A\n",
            "\n",
            "\n",
            " 40%|████      | 8/20 [00:02<00:03,  3.70it/s]\u001b[A\u001b[A\u001b[A\n",
            "\n",
            "\n",
            " 45%|████▌     | 9/20 [00:02<00:02,  3.78it/s]\u001b[A\u001b[A\u001b[A\n",
            "\n",
            "\n",
            " 50%|█████     | 10/20 [00:02<00:02,  3.82it/s]\u001b[A\u001b[A\u001b[A\n",
            "\n",
            "\n",
            " 55%|█████▌    | 11/20 [00:02<00:02,  3.72it/s]\u001b[A\u001b[A\u001b[A\n",
            "\n",
            "\n",
            " 60%|██████    | 12/20 [00:03<00:02,  3.99it/s]\u001b[A\u001b[A\u001b[A\n",
            "\n",
            "\n",
            " 65%|██████▌   | 13/20 [00:03<00:01,  3.91it/s]\u001b[A\u001b[A\u001b[A\n",
            "\n",
            "\n",
            " 70%|███████   | 14/20 [00:03<00:01,  3.88it/s]\u001b[A\u001b[A\u001b[A\n",
            "\n",
            "\n",
            " 75%|███████▌  | 15/20 [00:03<00:01,  3.93it/s]\u001b[A\u001b[A\u001b[A\n",
            "\n",
            "\n",
            " 80%|████████  | 16/20 [00:04<00:00,  4.02it/s]\u001b[A\u001b[A\u001b[A\n",
            "\n",
            "\n",
            " 85%|████████▌ | 17/20 [00:04<00:00,  3.87it/s]\u001b[A\u001b[A\u001b[A\n",
            "\n",
            "\n",
            " 90%|█████████ | 18/20 [00:04<00:00,  3.73it/s]\u001b[A\u001b[A\u001b[A\n",
            "\n",
            "\n",
            " 95%|█████████▌| 19/20 [00:04<00:00,  3.75it/s]\u001b[A\u001b[A\u001b[A\n",
            "\n",
            "\n",
            "100%|██████████| 20/20 [00:05<00:00,  3.79it/s]\n",
            "\n",
            "\n",
            "\n",
            "  0%|          | 0/19 [00:00<?, ?it/s]\u001b[A\u001b[A\u001b[A/usr/local/lib/python3.6/dist-packages/keras_preprocessing/image/utils.py:107: UserWarning: grayscale is deprecated. Please use color_mode = \"grayscale\"\n",
            "  warnings.warn('grayscale is deprecated. Please use '\n",
            "\n",
            "\n",
            "\n"
          ],
          "name": "stderr"
        },
        {
          "output_type": "stream",
          "text": [
            "Model: \"LeNet\"\n",
            "_________________________________________________________________\n",
            "Layer (type)                 Output Shape              Param #   \n",
            "=================================================================\n",
            "input_39 (InputLayer)        (None, 28, 28, 1)         0         \n",
            "_________________________________________________________________\n",
            "conv2d_147 (Conv2D)          (None, 28, 28, 20)        520       \n",
            "_________________________________________________________________\n",
            "max_pooling2d_147 (MaxPoolin (None, 14, 14, 20)        0         \n",
            "_________________________________________________________________\n",
            "conv2d_148 (Conv2D)          (None, 14, 14, 50)        25050     \n",
            "_________________________________________________________________\n",
            "max_pooling2d_148 (MaxPoolin (None, 7, 7, 50)          0         \n",
            "_________________________________________________________________\n",
            "flatten_74 (Flatten)         (None, 2450)              0         \n",
            "_________________________________________________________________\n",
            "dense_145 (Dense)            (None, 500)               1225500   \n",
            "_________________________________________________________________\n",
            "dense_146 (Dense)            (None, 10)                5010      \n",
            "=================================================================\n",
            "Total params: 1,256,080\n",
            "Trainable params: 1,256,080\n",
            "Non-trainable params: 0\n",
            "_________________________________________________________________\n",
            "Model: \"LeNet\"\n",
            "_________________________________________________________________\n",
            "Layer (type)                 Output Shape              Param #   \n",
            "=================================================================\n",
            "input_39 (InputLayer)        (None, 28, 28, 1)         0         \n",
            "_________________________________________________________________\n",
            "conv2d_149 (Conv2D)          (None, 28, 28, 20)        520       \n",
            "_________________________________________________________________\n",
            "max_pooling2d_149 (MaxPoolin (None, 14, 14, 20)        0         \n",
            "_________________________________________________________________\n",
            "conv2d_150 (Conv2D)          (None, 14, 14, 50)        25050     \n",
            "_________________________________________________________________\n",
            "max_pooling2d_150 (MaxPoolin (None, 7, 7, 50)          0         \n",
            "_________________________________________________________________\n",
            "flatten_75 (Flatten)         (None, 2450)              0         \n",
            "_________________________________________________________________\n",
            "dense_147 (Dense)            (None, 500)               1225500   \n",
            "_________________________________________________________________\n",
            "dense_148 (Dense)            (None, 32)                16032     \n",
            "=================================================================\n",
            "Total params: 1,267,102\n",
            "Trainable params: 1,267,102\n",
            "Non-trainable params: 0\n",
            "_________________________________________________________________\n"
          ],
          "name": "stdout"
        },
        {
          "output_type": "stream",
          "text": [
            "\r 26%|██▋       | 5/19 [00:00<00:00, 37.55it/s]\u001b[A\u001b[A\u001b[A\n",
            "\n",
            "\n",
            " 53%|█████▎    | 10/19 [00:00<00:00, 39.20it/s]\u001b[A\u001b[A\u001b[A\n",
            "\n",
            "\n",
            "100%|██████████| 19/19 [00:00<00:00, 41.49it/s]\n",
            "\n",
            "\n",
            "\n",
            "  0%|          | 0/24 [00:00<?, ?it/s]\u001b[A\u001b[A\u001b[A\n",
            "\n",
            "\n",
            " 33%|███▎      | 8/24 [00:00<00:00, 73.06it/s]\u001b[A\u001b[A\u001b[A\n",
            "\n",
            "\n",
            " 54%|█████▍    | 13/24 [00:00<00:00, 53.01it/s]\u001b[A\u001b[A\u001b[A\n",
            "\n",
            "\n",
            " 71%|███████   | 17/24 [00:00<00:00, 45.51it/s]\u001b[A\u001b[A\u001b[A\n",
            "\n",
            "\n",
            "100%|██████████| 24/24 [00:00<00:00, 42.52it/s]\n",
            "\n",
            "\n",
            "\n",
            "  0%|          | 0/18 [00:00<?, ?it/s]\u001b[A\u001b[A\u001b[A\n",
            "\n",
            "\n",
            " 44%|████▍     | 8/18 [00:00<00:00, 68.11it/s]\u001b[A\u001b[A\u001b[A\n",
            "\n",
            "\n",
            " 72%|███████▏  | 13/18 [00:00<00:00, 58.53it/s]\u001b[A\u001b[A\u001b[A\n",
            "\n",
            "\n",
            "100%|██████████| 18/18 [00:00<00:00, 50.97it/s]\n",
            "\n",
            "\n",
            "\n",
            "  0%|          | 0/19 [00:00<?, ?it/s]\u001b[A\u001b[A\u001b[A\n",
            "\n",
            "\n",
            " 42%|████▏     | 8/19 [00:00<00:00, 72.10it/s]\u001b[A\u001b[A\u001b[A\n",
            "\n",
            "\n",
            " 68%|██████▊   | 13/19 [00:00<00:00, 60.01it/s]\u001b[A\u001b[A\u001b[A\n",
            "\n",
            "\n",
            "100%|██████████| 19/19 [00:00<00:00, 49.77it/s]\n",
            "\n",
            "\n",
            "\n",
            "  0%|          | 0/25 [00:00<?, ?it/s]\u001b[A\u001b[A\u001b[A\n",
            "\n",
            "\n",
            " 32%|███▏      | 8/25 [00:00<00:00, 72.74it/s]\u001b[A\u001b[A\u001b[A\n",
            "\n",
            "\n",
            " 48%|████▊     | 12/25 [00:00<00:00, 55.65it/s]\u001b[A\u001b[A\u001b[A\n",
            "\n",
            "\n",
            " 68%|██████▊   | 17/25 [00:00<00:00, 51.05it/s]\u001b[A\u001b[A\u001b[A\n",
            "\n",
            "\n",
            "100%|██████████| 25/25 [00:00<00:00, 48.02it/s]\n",
            "\n",
            "\n",
            "\n",
            "  0%|          | 0/21 [00:00<?, ?it/s]\u001b[A\u001b[A\u001b[A\n",
            "\n",
            "\n",
            " 38%|███▊      | 8/21 [00:00<00:00, 75.29it/s]\u001b[A\u001b[A\u001b[A\n",
            "\n",
            "\n",
            " 62%|██████▏   | 13/21 [00:00<00:00, 61.75it/s]\u001b[A\u001b[A\u001b[A\n",
            "\n",
            "\n",
            " 81%|████████  | 17/21 [00:00<00:00, 50.93it/s]\u001b[A\u001b[A\u001b[A\n",
            "\n",
            "\n",
            "100%|██████████| 21/21 [00:00<00:00, 47.60it/s]\n",
            "\n",
            "\n",
            "\n",
            "  0%|          | 0/20 [00:00<?, ?it/s]\u001b[A\u001b[A\u001b[A\n",
            "\n",
            "\n",
            " 40%|████      | 8/20 [00:00<00:00, 65.58it/s]\u001b[A\u001b[A\u001b[A\n",
            "\n",
            "\n",
            " 65%|██████▌   | 13/20 [00:00<00:00, 57.19it/s]\u001b[A\u001b[A\u001b[A\n",
            "\n",
            "\n",
            "100%|██████████| 20/20 [00:00<00:00, 50.20it/s]\n",
            "\n",
            "\n",
            "\n",
            "  0%|          | 0/23 [00:00<?, ?it/s]\u001b[A\u001b[A\u001b[A\n",
            "\n",
            "\n",
            " 35%|███▍      | 8/23 [00:00<00:00, 75.01it/s]\u001b[A\u001b[A\u001b[A\n",
            "\n",
            "\n",
            " 57%|█████▋    | 13/23 [00:00<00:00, 61.80it/s]\u001b[A\u001b[A\u001b[A\n",
            "\n",
            "\n",
            " 74%|███████▍  | 17/23 [00:00<00:00, 53.03it/s]\u001b[A\u001b[A\u001b[A\n",
            "\n",
            "\n",
            "100%|██████████| 23/23 [00:00<00:00, 49.01it/s]\n",
            "\n",
            "\n",
            "\n",
            "  0%|          | 0/20 [00:00<?, ?it/s]\u001b[A\u001b[A\u001b[A\n",
            "\n",
            "\n",
            " 35%|███▌      | 7/20 [00:00<00:00, 62.98it/s]\u001b[A\u001b[A\u001b[A\n",
            "\n",
            "\n",
            " 55%|█████▌    | 11/20 [00:00<00:00, 52.47it/s]\u001b[A\u001b[A\u001b[A\n",
            "\n",
            "\n",
            " 75%|███████▌  | 15/20 [00:00<00:00, 46.65it/s]\u001b[A\u001b[A\u001b[A\n",
            "\n",
            "\n",
            "100%|██████████| 20/20 [00:00<00:00, 44.93it/s]\n",
            "\n",
            "\n",
            "\n",
            "  0%|          | 0/18 [00:00<?, ?it/s]\u001b[A\u001b[A\u001b[A\n",
            "\n",
            "\n",
            " 39%|███▉      | 7/18 [00:00<00:00, 66.58it/s]\u001b[A\u001b[A\u001b[A\n",
            "\n",
            "\n",
            " 67%|██████▋   | 12/18 [00:00<00:00, 58.00it/s]\u001b[A\u001b[A\u001b[A\n",
            "\n",
            "\n",
            "100%|██████████| 18/18 [00:00<00:00, 51.05it/s]\n",
            "\n",
            "\n",
            "\n",
            "  0%|          | 0/23 [00:00<?, ?it/s]\u001b[A\u001b[A\u001b[A\n",
            "\n",
            "\n",
            " 35%|███▍      | 8/23 [00:00<00:00, 71.79it/s]\u001b[A\u001b[A\u001b[A\n",
            "\n",
            "\n",
            " 52%|█████▏    | 12/23 [00:00<00:00, 53.66it/s]\u001b[A\u001b[A\u001b[A\n",
            "\n",
            "\n",
            " 70%|██████▉   | 16/23 [00:00<00:00, 47.87it/s]\u001b[A\u001b[A\u001b[A\n",
            "\n",
            "\n",
            "100%|██████████| 23/23 [00:00<00:00, 45.59it/s]\n",
            "\n",
            "\n",
            "\n",
            "  0%|          | 0/20 [00:00<?, ?it/s]\u001b[A\u001b[A\u001b[A\n",
            "\n",
            "\n",
            " 40%|████      | 8/20 [00:00<00:00, 71.14it/s]\u001b[A\u001b[A\u001b[A\n",
            "\n",
            "\n",
            " 65%|██████▌   | 13/20 [00:00<00:00, 59.97it/s]\u001b[A\u001b[A\u001b[A\n",
            "\n",
            "\n",
            "100%|██████████| 20/20 [00:00<00:00, 51.10it/s]\n",
            "\n",
            "\n",
            "\n",
            "  0%|          | 0/21 [00:00<?, ?it/s]\u001b[A\u001b[A\u001b[A\n",
            "\n",
            "\n",
            " 38%|███▊      | 8/21 [00:00<00:00, 75.51it/s]\u001b[A\u001b[A\u001b[A\n",
            "\n",
            "\n",
            " 62%|██████▏   | 13/21 [00:00<00:00, 62.07it/s]\u001b[A\u001b[A\u001b[A\n",
            "\n",
            "\n",
            "100%|██████████| 21/21 [00:00<00:00, 51.30it/s]\n",
            "\n",
            "\n",
            "\n",
            "  0%|          | 0/21 [00:00<?, ?it/s]\u001b[A\u001b[A\u001b[A\n",
            "\n",
            "\n",
            " 38%|███▊      | 8/21 [00:00<00:00, 69.34it/s]\u001b[A\u001b[A\u001b[A\n",
            "\n",
            "\n",
            " 62%|██████▏   | 13/21 [00:00<00:00, 58.12it/s]\u001b[A\u001b[A\u001b[A\n",
            "\n",
            "\n",
            "100%|██████████| 21/21 [00:00<00:00, 49.82it/s]\n",
            "\n",
            "\n",
            "\n",
            "  0%|          | 0/20 [00:00<?, ?it/s]\u001b[A\u001b[A\u001b[A\n",
            "\n",
            "\n",
            " 40%|████      | 8/20 [00:00<00:00, 69.15it/s]\u001b[A\u001b[A\u001b[A\n",
            "\n",
            "\n",
            " 60%|██████    | 12/20 [00:00<00:00, 54.08it/s]\u001b[A\u001b[A\u001b[A\n",
            "\n",
            "\n",
            " 80%|████████  | 16/20 [00:00<00:00, 47.10it/s]\u001b[A\u001b[A\u001b[A\n",
            "\n",
            "\n",
            "100%|██████████| 20/20 [00:00<00:00, 44.31it/s]\n",
            "\n",
            "\n",
            "\n",
            "  0%|          | 0/18 [00:00<?, ?it/s]\u001b[A\u001b[A\u001b[A\n",
            "\n",
            "\n",
            " 39%|███▉      | 7/18 [00:00<00:00, 68.87it/s]\u001b[A\u001b[A\u001b[A\n",
            "\n",
            "\n",
            " 67%|██████▋   | 12/18 [00:00<00:00, 58.95it/s]\u001b[A\u001b[A\u001b[A\n",
            "\n",
            "\n",
            "100%|██████████| 18/18 [00:00<00:00, 49.96it/s]\n",
            "\n",
            "\n",
            "\n",
            "  0%|          | 0/22 [00:00<?, ?it/s]\u001b[A\u001b[A\u001b[A\n",
            "\n",
            "\n",
            " 36%|███▋      | 8/22 [00:00<00:00, 67.62it/s]\u001b[A\u001b[A\u001b[A\n",
            "\n",
            "\n",
            " 59%|█████▉    | 13/22 [00:00<00:00, 57.25it/s]\u001b[A\u001b[A\u001b[A\n",
            "\n",
            "\n",
            "100%|██████████| 22/22 [00:00<00:00, 48.99it/s]\n",
            "\n",
            "\n",
            "\n",
            "  0%|          | 0/23 [00:00<?, ?it/s]\u001b[A\u001b[A\u001b[A\n",
            "\n",
            "\n",
            " 35%|███▍      | 8/23 [00:00<00:00, 69.45it/s]\u001b[A\u001b[A\u001b[A\n",
            "\n",
            "\n",
            " 57%|█████▋    | 13/23 [00:00<00:00, 59.64it/s]\u001b[A\u001b[A\u001b[A\n",
            "\n",
            "\n",
            " 78%|███████▊  | 18/23 [00:00<00:00, 52.58it/s]\u001b[A\u001b[A\u001b[A\n",
            "\n",
            "\n",
            "100%|██████████| 23/23 [00:00<00:00, 49.13it/s]\n",
            "\n",
            "\n",
            "\n",
            "  0%|          | 0/21 [00:00<?, ?it/s]\u001b[A\u001b[A\u001b[A\n",
            "\n",
            "\n",
            " 38%|███▊      | 8/21 [00:00<00:00, 73.39it/s]\u001b[A\u001b[A\u001b[A\n",
            "\n",
            "\n",
            " 62%|██████▏   | 13/21 [00:00<00:00, 62.46it/s]\u001b[A\u001b[A\u001b[A\n",
            "\n",
            "\n",
            "100%|██████████| 21/21 [00:00<00:00, 52.31it/s]\n",
            "\n",
            "\n",
            "\n",
            "  0%|          | 0/20 [00:00<?, ?it/s]\u001b[A\u001b[A\u001b[A\n",
            "\n",
            "\n",
            " 40%|████      | 8/20 [00:00<00:00, 77.11it/s]\u001b[A\u001b[A\u001b[A\n",
            "\n",
            "\n",
            " 65%|██████▌   | 13/20 [00:00<00:00, 62.19it/s]\u001b[A\u001b[A\u001b[A\n",
            "\n",
            "\n",
            "100%|██████████| 20/20 [00:00<00:00, 52.03it/s]"
          ],
          "name": "stderr"
        },
        {
          "output_type": "stream",
          "text": [
            "-------------------------------------\n",
            "Form: 1\n",
            "ID 9657213\n",
            "Firstname نظا\n",
            "Lastname سلطانی\n",
            "degree: PHD\n",
            "-------------------------------------\n",
            "Form: 2\n",
            "ID 0977901\n",
            "Firstname معموتاقر\n",
            "Lastname سالاری\n",
            "degree: BS\n",
            "-------------------------------------\n",
            "Form: 3\n",
            "ID 98756232\n",
            "Firstname شفق\n",
            "Lastname اسدی\n",
            "degree: PHD\n",
            "-------------------------------------\n",
            "Form: 4\n",
            "ID 94444121\n",
            "Firstname نیلا\n",
            "Lastname امین\n",
            "degree: PHD\n",
            "-------------------------------------\n",
            "Form: 5\n",
            "ID 9527502\n",
            "Firstname امیوعلی\n",
            "Lastname حسینزاده\n",
            "degree: BS\n",
            "-------------------------------------\n",
            "Form: 6\n",
            "ID 9323993\n",
            "Firstname طاها\n",
            "Lastname سماواتی\n",
            "degree: BS\n",
            "-------------------------------------\n",
            "Form: 7\n",
            "ID 98731243\n",
            "Firstname فرزاد\n",
            "Lastname صبحی\n",
            "degree: MS\n",
            "-------------------------------------\n",
            "Form: 8\n",
            "ID 95012121\n",
            "Firstname رزیتا\n",
            "Lastname عظیمیان\n",
            "degree: MS\n",
            "-------------------------------------\n",
            "Form: 9\n",
            "ID 99337567\n",
            "Firstname سهبد\n",
            "Lastname تابعی\n",
            "degree: BS\n",
            "-------------------------------------\n",
            "Form: 10\n",
            "ID 9312567\n",
            "Firstname سیما\n",
            "Lastname نظری\n",
            "degree: BS\n",
            "-------------------------------------\n",
            "Form: 11\n",
            "ID 98444114\n",
            "Firstname فزناز\n",
            "Lastname عسننژطد\n",
            "degree: BS\n",
            "-------------------------------------\n",
            "Form: 12\n",
            "ID 11342135\n",
            "Firstname زهراه\n",
            "Lastname بیگی\n",
            "degree: MS\n",
            "-------------------------------------\n",
            "Form: 13\n",
            "ID 92345667\n",
            "Firstname پیتا\n",
            "Lastname بابایی\n",
            "degree: MS\n",
            "-------------------------------------\n",
            "Form: 14\n",
            "ID 9386137\n",
            "Firstname ستایش\n",
            "Lastname ثرهادی\n",
            "degree: PHD\n",
            "-------------------------------------\n",
            "Form: 15\n",
            "ID 9152832\n",
            "Firstname علی\n",
            "Lastname بیراوند\n",
            "degree: MS\n",
            "-------------------------------------\n",
            "Form: 16\n",
            "ID 8252190\n",
            "Firstname اصغر\n",
            "Lastname مثدم\n",
            "degree: PHD\n",
            "-------------------------------------\n",
            "Form: 17\n",
            "ID 9513367\n",
            "Firstname شاهین\n",
            "Lastname کامبیزی\n",
            "degree: PHD\n",
            "-------------------------------------\n",
            "Form: 18\n",
            "ID 93774415\n",
            "Firstname برویذ\n",
            "Lastname اجمدیان\n",
            "degree: MS\n",
            "-------------------------------------\n",
            "Form: 19\n",
            "ID 9731203\n",
            "Firstname سووقا\n",
            "Lastname انصاوی\n",
            "degree: BS\n",
            "-------------------------------------\n",
            "Form: 20\n",
            "ID 96624751\n",
            "Firstname زینب\n",
            "Lastname صتاوی\n",
            "degree: BS\n",
            "Time:  14.221325682003226\n"
          ],
          "name": "stdout"
        },
        {
          "output_type": "stream",
          "text": [
            "\n"
          ],
          "name": "stderr"
        }
      ]
    }
  ]
}